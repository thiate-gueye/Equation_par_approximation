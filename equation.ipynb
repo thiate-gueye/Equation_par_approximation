{
 "cells": [
  {
   "cell_type": "markdown",
   "metadata": {},
   "source": [
    "Resolution de l'equation suivante par approximation \n",
    "{\n",
    "    2x + y = 4 ,\n",
    "    y - x = 1 ,\n",
    "    4x - y = 1\n",
    "}"
   ]
  },
  {
   "cell_type": "code",
   "execution_count": 1,
   "metadata": {},
   "outputs": [],
   "source": [
    "def e1(x,y):\n",
    "    return 4 - 2*x - y"
   ]
  },
  {
   "cell_type": "code",
   "execution_count": 2,
   "metadata": {},
   "outputs": [],
   "source": [
    "def e2(x,y):\n",
    "    return 1 - y + x"
   ]
  },
  {
   "cell_type": "code",
   "execution_count": 3,
   "metadata": {},
   "outputs": [],
   "source": [
    "def e3(x,y):\n",
    "    return 1 - 4*x + y"
   ]
  },
  {
   "cell_type": "code",
   "execution_count": 4,
   "metadata": {},
   "outputs": [],
   "source": [
    "def erreur_quadratique(x,y):\n",
    "    return 1 / 3 * ((e1(x,y))**2 + (e2(x,y))**2 + (e3(x,y))**2)  "
   ]
  },
  {
   "cell_type": "code",
   "execution_count": 5,
   "metadata": {},
   "outputs": [],
   "source": [
    "def variation_x(x ,y, rate):\n",
    "    return x - rate*(-4*e1(x,y) +2*e2(x,y) -8*e3(x,y))"
   ]
  },
  {
   "cell_type": "code",
   "execution_count": 6,
   "metadata": {},
   "outputs": [],
   "source": [
    "def variation_y(x ,y, rate):\n",
    "    return y - rate*(-2*e1(x,y) -2*e2(x,y) +2*e3(x,y))"
   ]
  },
  {
   "cell_type": "code",
   "execution_count": 10,
   "metadata": {},
   "outputs": [],
   "source": [
    "def fill(x,y,rate):\n",
    "    i=0\n",
    "    while(True):\n",
    "        erreur = erreur_quadratique(x,y)\n",
    "        x_min = x\n",
    "        y_min = y\n",
    "        x = variation_x(x ,y, rate)\n",
    "        y = variation_y(x ,y, rate)\n",
    "        erreur2 = erreur_quadratique(x,y)\n",
    "        #print(\" erreur_t = \",erreur, \" erreur_t+1 = \",erreur2)\n",
    "        if(erreur2 > erreur):\n",
    "            break\n",
    "        else:\n",
    "            erreur = erreur2\n",
    "            x_min = x\n",
    "            y_min = y \n",
    "        i = i+1\n",
    "    return (x_min,y_min,erreur,i)\n",
    "        "
   ]
  },
  {
   "cell_type": "code",
   "execution_count": 8,
   "metadata": {},
   "outputs": [
    {
     "data": {
      "text/plain": [
       "13.666666666666666"
      ]
     },
     "execution_count": 8,
     "metadata": {},
     "output_type": "execute_result"
    }
   ],
   "source": [
    "erreur_quadratique(2,1)"
   ]
  },
  {
   "cell_type": "code",
   "execution_count": 11,
   "metadata": {},
   "outputs": [
    {
     "data": {
      "text/plain": [
       "(0.8333333302210763, 2.166666647513077, 0.055555555555555844, 342)"
      ]
     },
     "execution_count": 11,
     "metadata": {},
     "output_type": "execute_result"
    }
   ],
   "source": [
    "fill(2,1,0.01)"
   ]
  },
  {
   "cell_type": "code",
   "execution_count": null,
   "metadata": {},
   "outputs": [],
   "source": []
  }
 ],
 "metadata": {
  "kernelspec": {
   "display_name": "Python 3",
   "language": "python",
   "name": "python3"
  },
  "language_info": {
   "codemirror_mode": {
    "name": "ipython",
    "version": 3
   },
   "file_extension": ".py",
   "mimetype": "text/x-python",
   "name": "python",
   "nbconvert_exporter": "python",
   "pygments_lexer": "ipython3",
   "version": "3.8.5"
  }
 },
 "nbformat": 4,
 "nbformat_minor": 4
}
